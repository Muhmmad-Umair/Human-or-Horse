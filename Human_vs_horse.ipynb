{
  "nbformat": 4,
  "nbformat_minor": 0,
  "metadata": {
    "colab": {
      "private_outputs": true,
      "provenance": [],
      "gpuType": "T4",
      "cell_execution_strategy": "setup"
    },
    "kernelspec": {
      "name": "python3",
      "display_name": "Python 3"
    },
    "language_info": {
      "name": "python"
    },
    "accelerator": "GPU"
  },
  "cells": [
    {
      "cell_type": "code",
      "execution_count": null,
      "metadata": {
        "id": "3RxVwSy0ktn1"
      },
      "outputs": [],
      "source": [
        "import os\n",
        "import zipfile\n",
        "local_zip='./umair.com.zip'\n",
        "zip_ref=zipfile.ZipFile(local_zip,'r')\n",
        "zip_ref.extractall('./horse-or-human')\n",
        "zip_ref.close()"
      ]
    },
    {
      "cell_type": "code",
      "source": [
        "train_horse_dir=os.path.join('./horse-or-human/horses')\n",
        "train_human_dir=os.path.join('./horse-or-human/humans')"
      ],
      "metadata": {
        "id": "b_-X67KvqeMc"
      },
      "execution_count": null,
      "outputs": []
    },
    {
      "cell_type": "code",
      "source": [
        "train_horse_dir"
      ],
      "metadata": {
        "id": "zLoFWj21sFV_"
      },
      "execution_count": null,
      "outputs": []
    },
    {
      "cell_type": "code",
      "source": [
        "train_horse_name=os.listdir(train_horse_dir)\n",
        "print(train_horse_name[:10])\n",
        "train_human_name=os.listdir(train_human_dir)\n",
        "print(train_human_name[:10])"
      ],
      "metadata": {
        "id": "ho2oU6pMs1ZI"
      },
      "execution_count": null,
      "outputs": []
    },
    {
      "cell_type": "code",
      "source": [
        "print('total training horse images:',len(os.listdir(train_horse_dir)))\n",
        "print('total training human images:',len(os.listdir(train_human_dir)))"
      ],
      "metadata": {
        "id": "4VWw9GQftAI2"
      },
      "execution_count": null,
      "outputs": []
    },
    {
      "cell_type": "code",
      "source": [
        "%matplotlib inline\n",
        "import matplotlib.pyplot as plt\n",
        "import matplotlib.image as mpimg\n",
        "nrow=4\n",
        "ncols=4\n",
        "index=0"
      ],
      "metadata": {
        "id": "q2eGMJINtSBj"
      },
      "execution_count": null,
      "outputs": []
    },
    {
      "cell_type": "code",
      "source": [
        "fig=plt.gcf()\n",
        "fig.set_size_inches(ncols*2,nrow*2)\n",
        "index +=8\n",
        "next_horse_pix=[os.path.join(train_horse_dir,fname)\n",
        "               for fname in train_horse_name[index-8:index]]\n",
        "next_human_pix=[os.path.join(train_human_dir,fname)\n",
        "               for fname in train_human_name[index-8:index]]\n",
        "for i,img_path in enumerate(next_horse_pix+next_human_pix):\n",
        "    sp=plt.subplot(nrow,ncols,i+1)\n",
        "    img=mpimg.imread(img_path)\n",
        "    plt.imshow(img)\n",
        "plt.show()"
      ],
      "metadata": {
        "id": "G67ffOSNt2nl"
      },
      "execution_count": null,
      "outputs": []
    },
    {
      "cell_type": "code",
      "source": [
        "import tensorflow as tf"
      ],
      "metadata": {
        "id": "EJOp0bWrwuUV"
      },
      "execution_count": null,
      "outputs": []
    },
    {
      "cell_type": "code",
      "source": [
        "model=tf.keras.models.Sequential([\n",
        "    tf.keras.layers.Conv2D(16,(3,3),activation='relu',input_shape=(300,300,3)),\n",
        "    tf.keras.layers.MaxPooling2D(2,2),\n",
        "    tf.keras.layers.Conv2D(32,(3,3),activation='relu'),\n",
        "    tf.keras.layers.MaxPooling2D(2,2),\n",
        "    tf.keras.layers.Conv2D(64,(3,3),activation='relu'),\n",
        "    tf.keras.layers.MaxPooling2D(2,2),\n",
        "    tf.keras.layers.Conv2D(64,(3,3),activation='relu'),\n",
        "    tf.keras.layers.MaxPooling2D(2,2),\n",
        "    tf.keras.layers.Conv2D(64,(3,3),activation='relu'),\n",
        "    tf.keras.layers.MaxPooling2D(2,2),\n",
        "    tf.keras.layers.Flatten(),\n",
        "    tf.keras.layers.Dense(512,activation='relu'),\n",
        "    tf.keras.layers.Dense(1,activation='sigmoid')\n",
        "])"
      ],
      "metadata": {
        "id": "5mZQkVemwzuO"
      },
      "execution_count": null,
      "outputs": []
    },
    {
      "cell_type": "code",
      "source": [
        "model.summary()"
      ],
      "metadata": {
        "id": "2dPfNdmcxodn"
      },
      "execution_count": null,
      "outputs": []
    },
    {
      "cell_type": "code",
      "source": [
        "from tensorflow.keras.optimizers import RMSprop\n",
        "\n",
        "model.compile(loss='binary_crossentropy',\n",
        "              optimizer=RMSprop(learning_rate=0.001),  # Change lr to learning_rate\n",
        "              metrics=['accuracy'])"
      ],
      "metadata": {
        "id": "qWYI05Fyx3YL"
      },
      "execution_count": null,
      "outputs": []
    },
    {
      "cell_type": "code",
      "source": [
        "from tensorflow.keras.preprocessing.image import ImageDataGenerator\n",
        "img_gen=ImageDataGenerator(rescale=1/255)\n",
        "train_generator=img_gen.flow_from_directory(\n",
        "    './horse-or-human/',\n",
        "    target_size=(300,300),\n",
        "    batch_size=128,\n",
        "    class_mode='binary'\n",
        ")"
      ],
      "metadata": {
        "id": "JhSmP2P5xvsD"
      },
      "execution_count": null,
      "outputs": []
    },
    {
      "cell_type": "code",
      "source": [
        "histroy=model.fit(\n",
        "    train_generator,\n",
        "    steps_per_epoch=8,\n",
        "    epochs=15,\n",
        "    verbose=1\n",
        ")"
      ],
      "metadata": {
        "id": "6dWslqo7zi3-"
      },
      "execution_count": null,
      "outputs": []
    },
    {
      "cell_type": "code",
      "source": [
        "import numpy as np\n",
        "from google.colab import files\n",
        "from keras.preprocessing import image\n",
        "\n",
        "uploaded = files.upload()\n",
        "\n",
        "for fn in uploaded.keys():\n",
        "\n",
        "  # predicting images\n",
        "  path = '/content/' + fn\n",
        "  img = image.load_img(path, target_size=(300, 300))\n",
        "  x = image.img_to_array(img)\n",
        "  x = np.expand_dims(x, axis=0)\n",
        "\n",
        "  images = np.vstack([x])\n",
        "  classes = model.predict(images, batch_size=10)\n",
        "  print(classes[0])\n",
        "  if classes[0]>0.5:\n",
        "    print(fn + \" is a human\")\n",
        "  else:\n",
        "    print(fn + \" is a horse\")\n"
      ],
      "metadata": {
        "id": "Qfv83jCJyWAP"
      },
      "execution_count": null,
      "outputs": []
    }
  ]
}